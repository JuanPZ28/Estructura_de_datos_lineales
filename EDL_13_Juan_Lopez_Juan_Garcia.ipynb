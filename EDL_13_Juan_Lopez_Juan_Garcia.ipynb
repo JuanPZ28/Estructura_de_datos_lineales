{
  "nbformat": 4,
  "nbformat_minor": 0,
  "metadata": {
    "colab": {
      "provenance": [],
      "include_colab_link": true
    },
    "kernelspec": {
      "name": "python3",
      "display_name": "Python 3"
    },
    "language_info": {
      "name": "python"
    }
  },
  "cells": [
    {
      "cell_type": "markdown",
      "metadata": {
        "id": "view-in-github",
        "colab_type": "text"
      },
      "source": [
        "<a href=\"https://colab.research.google.com/github/JuanPZ28/Estructura_de_datos_lineales/blob/main/EDL_13_Juan_Lopez_Juan_Garcia.ipynb\" target=\"_parent\"><img src=\"https://colab.research.google.com/assets/colab-badge.svg\" alt=\"Open In Colab\"/></a>"
      ]
    },
    {
      "cell_type": "markdown",
      "source": [
        "Pseudocodigos:\n",
        "\n",
        "Busqueda lineal:\n",
        "\n",
        "funcion busqueda_lineal(lista, objetivo):\n",
        "\n",
        "  para cada indice i en lista:\n",
        "\n",
        "    si lista[i] == objetivo:\n",
        "\n",
        "      retornar i //elemento encontrado\n",
        "\n",
        "    retornar -1 //elemento no encontrado\n",
        "\n",
        "\n",
        "Busqueda binaria:\n",
        "\n",
        "funcion busqueda_binaria(lista, objetivo):\n",
        "\n",
        "  bajo = 0\n",
        "\n",
        "  alto = longitud(lista) -1\n",
        "\n",
        "  mientras bajo <= alto:\n",
        "\n",
        "    medio = (bajo + alto) //2\n",
        "\n",
        "    si lista[medio] == objetivo:\n",
        "\n",
        "      retornar medio // elemento encontrado\n",
        "\n",
        "    sino si lista [medio] < objetivo:\n",
        "\n",
        "      bajo = medio + 1\n",
        "\n",
        "    sino:\n",
        "\n",
        "      alto = medio -1\n",
        "      \n",
        "  retornar -1 // elemento no encontrado"
      ],
      "metadata": {
        "id": "NYrkFmCVA8ii"
      }
    },
    {
      "cell_type": "code",
      "source": [
        "# Busqueda lineal\n",
        "\n",
        "def busqueda_lineal(lista, objetivo):\n",
        "  comparaciones = 0\n",
        "  for i in range(len(lista)):\n",
        "    if lista[i] == objetivo:\n",
        "      comparaciones += 1\n",
        "      print(\"Cantidad de comparaciones:\",comparaciones, i )\n",
        "      return i # Retorna el valor objetivo\n",
        "    comparaciones += 1\n",
        "    print(\"Cantidad de comparaciones:\",comparaciones, i )\n",
        "  return -1 #retorna el valor\n",
        "# Caso #1, Se realizan 4 comparaciones hasta encontrar el objetivo\n",
        "lista = [7,2,9,4]\n",
        "objetivo = 9\n",
        "print(busqueda_lineal(lista, objetivo))\n",
        "# Caso #2, Se realizan 4 comparaciones recorriendo todo el arreglo pero sin encontrar el objetivo\n",
        "lista = [3,7,2,4]\n",
        "objetivo = 9\n",
        "print(busqueda_lineal(lista, objetivo))"
      ],
      "metadata": {
        "colab": {
          "base_uri": "https://localhost:8080/"
        },
        "id": "rwqNqCh7CSxt",
        "outputId": "e59d41a1-dc1b-4508-e6d1-e7fa82fb3cea"
      },
      "execution_count": null,
      "outputs": [
        {
          "output_type": "stream",
          "name": "stdout",
          "text": [
            "Cantidad de comparaciones: 1 0\n",
            "Cantidad de comparaciones: 2 1\n",
            "Cantidad de comparaciones: 3 2\n",
            "2\n",
            "Cantidad de comparaciones: 1 0\n",
            "Cantidad de comparaciones: 2 1\n",
            "Cantidad de comparaciones: 3 2\n",
            "Cantidad de comparaciones: 4 3\n",
            "-1\n"
          ]
        }
      ]
    },
    {
      "cell_type": "code",
      "source": [
        "# Busqueda lineal con multiples objetivos\n",
        "\n",
        "def busqueda_lineal(lista, objetivo):\n",
        "  comparaciones = 0\n",
        "  posiciones = []\n",
        "  for i in range(len(lista)):\n",
        "\n",
        "    if  lista[i] == objetivo:\n",
        "      comparaciones += 1\n",
        "      print(\"Cantidad de comparaciones:\",comparaciones, i )\n",
        "      posiciones.append(i)\n",
        "\n",
        "    else:\n",
        "      comparaciones += 1\n",
        "      print(\"Cantidad de comparaciones:\",comparaciones, i )\n",
        "  if comparaciones :\n",
        "    return print(\"Posiciones con numeros objetivos\",posiciones)\n",
        "  return -1 #retorna el valor\n",
        "\n",
        "\n",
        "# Caso #1, Se realizan 4 comparaciones hasta encontrar el objetivo\n",
        "lista = [9,3,2,9]\n",
        "objetivo = 9\n",
        "busqueda_lineal(lista, objetivo)"
      ],
      "metadata": {
        "id": "lKMoIo1LINZV",
        "colab": {
          "base_uri": "https://localhost:8080/"
        },
        "outputId": "c9ecc845-7694-4230-ccec-fa6e28032679"
      },
      "execution_count": null,
      "outputs": [
        {
          "output_type": "stream",
          "name": "stdout",
          "text": [
            "Cantidad de comparaciones: 1 0\n",
            "Cantidad de comparaciones: 2 1\n",
            "Cantidad de comparaciones: 3 2\n",
            "Cantidad de comparaciones: 4 3\n",
            "Posiciones con numeros objetivos [0, 3]\n"
          ]
        }
      ]
    },
    {
      "cell_type": "markdown",
      "source": [],
      "metadata": {
        "id": "5waVZJ7WA69U"
      }
    },
    {
      "cell_type": "code",
      "source": [
        "#Búsqueda Binaria\n",
        "def busqueda_binaria(lista, objetivo):\n",
        "  bajo = 0\n",
        "  alto = len(lista) -1\n",
        "  comparaciones = 0\n",
        "  while bajo <= alto: #Mientras el índice menor de la lista sea menor o igual al índice mayor de la lista\n",
        "    medio = (bajo + alto) //2 #Obtenga el punto medio de la lista\n",
        "    if lista[medio] == objetivo: #Determine si en el medio se ecuentra el objetivo\n",
        "      comparaciones += 1\n",
        "      print(\"Cantidad de comparaciones:\",comparaciones, medio )\n",
        "      return print(medio) #Retorne el índice encontrado\n",
        "    elif lista [medio] < objetivo: #Si el valor en el medio es menor\n",
        "      bajo = medio + 1 #Reduzca la búsqueda hacia la parte superior de la lista, después del medio\n",
        "      comparaciones += 1\n",
        "      print(\"Cantidad de comparaciones:\",comparaciones, medio )\n",
        "    else: #Si el valor en el medio es mayor\n",
        "      alto = medio -1 #Reduzca la búsqueda hacia la parte inferior de la lista, antes del medio\n",
        "      comparaciones += 1\n",
        "      print(\"Cantidad de comparaciones:\",comparaciones, medio )\n",
        "  return -1\n",
        "\n",
        "#Ejemplo de uso con valor encontrado\n",
        "lista_1 = [1, 3, 5, 7, 9, 11, 13]\n",
        "objetivo_1 = 7\n",
        "busqueda_binaria(lista_1, objetivo_1)\n",
        "\n",
        "print()\n",
        "\n",
        "#Ejemplo de uso sin valor encontrado\n",
        "lista_2 = [1, 3, 5, 7, 9, 11, 13]\n",
        "objetivo_2 = 4\n",
        "busqueda_binaria(lista_2, objetivo_2)"
      ],
      "metadata": {
        "colab": {
          "base_uri": "https://localhost:8080/"
        },
        "id": "vikrofzJMtc0",
        "outputId": "9d6e4795-d3e0-4a07-9f01-8a798e3c502e"
      },
      "execution_count": null,
      "outputs": [
        {
          "output_type": "stream",
          "name": "stdout",
          "text": [
            "Cantidad de comparaciones: 1 3\n",
            "3\n",
            "\n",
            "Cantidad de comparaciones: 1 3\n",
            "Cantidad de comparaciones: 2 1\n",
            "Cantidad de comparaciones: 3 2\n"
          ]
        },
        {
          "output_type": "execute_result",
          "data": {
            "text/plain": [
              "-1"
            ]
          },
          "metadata": {},
          "execution_count": 55
        }
      ]
    },
    {
      "cell_type": "markdown",
      "source": [],
      "metadata": {
        "id": "ujT_i_opm2M8"
      }
    }
  ]
}