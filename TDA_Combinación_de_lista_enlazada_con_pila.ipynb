{
  "nbformat": 4,
  "nbformat_minor": 0,
  "metadata": {
    "colab": {
      "provenance": [],
      "authorship_tag": "ABX9TyOutgJwAiFC4SI94ZhzsvXL",
      "include_colab_link": true
    },
    "kernelspec": {
      "name": "python3",
      "display_name": "Python 3"
    },
    "language_info": {
      "name": "python"
    }
  },
  "cells": [
    {
      "cell_type": "markdown",
      "metadata": {
        "id": "view-in-github",
        "colab_type": "text"
      },
      "source": [
        "<a href=\"https://colab.research.google.com/github/JuanPZ28/Estructura_de_datos_lineales/blob/main/TDA_Combinaci%C3%B3n_de_lista_enlazada_con_pila.ipynb\" target=\"_parent\"><img src=\"https://colab.research.google.com/assets/colab-badge.svg\" alt=\"Open In Colab\"/></a>"
      ]
    },
    {
      "cell_type": "code",
      "execution_count": null,
      "metadata": {
        "colab": {
          "base_uri": "https://localhost:8080/"
        },
        "id": "82XYhC9i4vgd",
        "outputId": "85f70bb6-ba3b-49bd-8bed-81394da17897"
      },
      "outputs": [
        {
          "output_type": "stream",
          "name": "stdout",
          "text": [
            "Lista antes de la insercion ['A', 'B', 'C', 'D', None]\n",
            "Tamaño antes de la inserción: 4\n",
            "\n",
            "Lista después de la inserción:\n",
            "Índice 0 : A\n",
            "Índice 1 : B\n",
            "Índice 2 : F\n",
            "Índice 3 : C\n",
            "Índice 4 : D\n",
            "Lista final: ['A', 'B', 'F', 'C', 'D']\n",
            "Tamaño después de la inserción: 5\n"
          ]
        }
      ],
      "source": [
        "class Lista:\n",
        "    def __init__(self):\n",
        "        # Lista con capacidad 5, pero solo 4 elementos definidos\n",
        "        self.data = [\"A\", \"B\", \"C\", \"D\", None]\n",
        "        self.capacidad = 5\n",
        "        self.tamano = 4\n",
        "\n",
        "    def insert(self, index, element):\n",
        "        if self.tamano < self.capacidad:\n",
        "            # Desplazar elementos a la derecha\n",
        "            for i in range(self.tamano, index, -1):\n",
        "                self.data[i] = self.data[i - 1]\n",
        "\n",
        "            # Insertar el nuevo valor\n",
        "            self.data[index] = element\n",
        "            self.tamano += 1  # Aumentar tamaño real\n",
        "        else:\n",
        "            print(\"La lista está llena, no se pueden insertar más elementos\")\n",
        "\n",
        "# Prueba\n",
        "mi_lista = Lista()\n",
        "print(\"Lista antes de la insercion\", mi_lista.data)\n",
        "print(\"Tamaño antes de la inserción:\",mi_lista.tamano)\n",
        "\n",
        "mi_lista.insert(2, \"F\")  # Insertar \"F\" en la posición 2\n",
        "\n",
        "print(\"\\nLista después de la inserción:\")\n",
        "for i in range(mi_lista.capacidad):  # Imprimir hasta la capacidad máxima\n",
        "    print(\"Índice\" ,i,\":\",mi_lista.data[i])\n",
        "\n",
        "print(\"Lista final:\", mi_lista.data)\n",
        "print(\"Tamaño después de la inserción:\", mi_lista.tamano)\n"
      ]
    },
    {
      "cell_type": "markdown",
      "source": [],
      "metadata": {
        "id": "8iMvhTnXt4r5"
      }
    },
    {
      "cell_type": "code",
      "source": [
        "#Ejercicio Lista Circular\n",
        "class ListaCircular:\n",
        "    def __init__(self, capacidad):#Funcion para inicializar elementos con el self\n",
        "      self.capacidad=capacidad\n",
        "      self.data=[None]*capacidad #Asigna una capacidad fija al arreglo llenandolo con Nones\n",
        "      self.tamano=0\n",
        "      self.frente=0\n",
        "\n",
        "    def insert(self, indice, valor):\n",
        "      if self.tamano < self.capacidad:#Verificar si aun se pueden insertar elementos dentro de la lista circular\n",
        "\n",
        "        pos_real = (self.frente + indice) % self.capacidad\n",
        "        \"\"\"Busqueda de posicion real:\n",
        "      Este metodo es utilizado en listas circulares  para calcular una posicon real dentro de ella,\n",
        "      debidoo a que no siempre el indice '0' sera el frente logico de la lista. El frente de esta lista\n",
        "      puede estar en cualquier posicion y los elemntos se guardan de manera rotatoria. por ello el self.frente\n",
        "      indica el inicio de la lista logica y el indice representa el desplazamiento que se inicia desde ese frente\n",
        "      por ello se suman estos dos valores y para evitar que se salga del arreglo, ahi entra en juego el modulo '%'\"\"\"\n",
        "        for i in range(self.tamano, indice, -1):\n",
        "          self.data[(self.frente + i) % self.capacidad] = self.data[(self.frente + i - 1) % self.capacidad]\n",
        "        self.data[pos_real] = valor\n",
        "        self.tamano += 1\n",
        "\n",
        "      else:\n",
        "            # Buffer lleno: sobrescribir el elemento más antiguo\n",
        "            if indice == 0:\n",
        "                # Si se inserta al inicio, simplemente sobrescribe el frente actual\n",
        "                self.data[self.frente] = valor\n",
        "                self.frente = (self.frente + 1) % self.capacidad  # Avanzamos el frente\n",
        "\n",
        "    def rotar(self, k=1):\n",
        "      self.frente = (self.frente + k) % self.capacidad\n",
        "\n",
        "listaCircular= ListaCircular(5)\n",
        "listaCircular.insert(0, \"A\")\n",
        "listaCircular.insert(1, \"B\")\n",
        "listaCircular.insert(2, \"C\")\n",
        "listaCircular.insert(3, \"D\")\n",
        "listaCircular.insert(4, \"E\")\n",
        "print(listaCircular.data)\n",
        "\n",
        "listaCircular.insert(0,\"F\")\n",
        "print(listaCircular.data)\n",
        "listaCircular.insert(0,\"G\")\n",
        "print(listaCircular.data)\n",
        "listaCircular.insert(0,\"H\")\n",
        "print(listaCircular.data)\n",
        "listaCircular.insert(0,\"I\")\n",
        "print(listaCircular.data)\n",
        "\n"
      ],
      "metadata": {
        "id": "o1eSMDgONPv_",
        "colab": {
          "base_uri": "https://localhost:8080/"
        },
        "outputId": "28b4fc9d-871c-433f-bacb-1930077e5504"
      },
      "execution_count": null,
      "outputs": [
        {
          "output_type": "stream",
          "name": "stdout",
          "text": [
            "['A', 'B', 'C', 'D', 'E']\n",
            "['F', 'B', 'C', 'D', 'E']\n",
            "['F', 'G', 'C', 'D', 'E']\n",
            "['F', 'G', 'H', 'D', 'E']\n",
            "['F', 'G', 'H', 'I', 'E']\n"
          ]
        }
      ]
    },
    {
      "cell_type": "code",
      "source": [
        "class Pila:\n",
        "  def __init__(self):\n",
        "     self.datos = []\n",
        "\n",
        "  def push(self, valor):\n",
        "     self.datos.append(valor)\n",
        "\n",
        "  def pop(self):\n",
        "      return self.datos.pop() if not self.is_empty() else None\n",
        "\n",
        "  def is_empty(self):\n",
        "      return len(self.datos) == 0\n",
        "\n",
        "def invertir_lista(lista):\n",
        "    pila = Pila()\n",
        "\n",
        "    for elemento in lista:#inserta elementos de acuerdo a la longitud de la lista\n",
        "        pila.push(elemento)\n",
        "\n",
        "\n",
        "    lista_invertida = [] #Genera lista invertida donde se almacenan los nuevos datos\n",
        "    while not pila.is_empty(): #Verifica que la lista no este vacia\n",
        "        lista_invertida.append(pila.pop())#Con el pop saca el ultimo elemento de la lista original\n",
        "        #y el append lo inserta en la lista invertida como nuevo elemento\n",
        "\n",
        "    return lista_invertida#retorna la lista invertida\n",
        "\n",
        "def verificar_parentesis(cadena):\n",
        "    pila = Pila()\n",
        "    for c in cadena:\n",
        "      if c == '(':\n",
        "        pila.push(c)\n",
        "      elif c == ')':\n",
        "        if pila.is_empty():\n",
        "          return False\n",
        "      pila.pop()\n",
        "    return pila.is_empty()\n",
        "\n",
        "def expresion_posfija(expresion):\n",
        "    pila = Pila()\n",
        "    operadores = {'+', '-', '*', '/'}\n",
        "\n",
        "    for token in expresion.split(): #Genera un for con terminacion en la longitud de la expresion entregada\n",
        "        if token.isdigit():  # Si el token es un numero\n",
        "            pila.push(int(token))# Realiza un push insertando ese elemento que es un digito en la pila\n",
        "        elif token in operadores:  # Si es operador, identifica que este en los operadores\n",
        "            b = pila.pop()#Saca de la pila a los dos numeros o uno solo que estaban antes\n",
        "            a = pila.pop()\n",
        "            if token == '+':#Analiza casos de operadores\n",
        "                pila.push(a + b) #devuelve el resultado a la pila\n",
        "            elif token == '-':\n",
        "                pila.push(a - b)#devuelve el resultado a la pila\n",
        "            elif token == '*':\n",
        "                pila.push(a * b)#devuelve el resultado a la pila\n",
        "            elif token == '/':\n",
        "                pila.push(a / b)#devuelve el resultado a la pila\n",
        "\n",
        "    return pila.pop()# Imprime el resultado final que se generara ahi\n",
        "\n",
        "lista=[1,2,3,4,5]\n",
        "print(invertir_lista(lista))\n",
        "expresion=\"3 4 + 5 *\"\n",
        "print(expresion_posfija(expresion))\n",
        "\n",
        "\n",
        "\n"
      ],
      "metadata": {
        "colab": {
          "base_uri": "https://localhost:8080/"
        },
        "id": "4MxfiSGx8gl4",
        "outputId": "83bc6e06-fec1-4672-8680-abbac0efb27c"
      },
      "execution_count": null,
      "outputs": [
        {
          "output_type": "stream",
          "name": "stdout",
          "text": [
            "[5, 4, 3, 2, 1]\n",
            "35\n"
          ]
        }
      ]
    },
    {
      "cell_type": "code",
      "source": [
        "#Una pila con lista enlazada\n",
        "from graphviz import Digraph\n",
        "class Nodo:#Clase nodo que sirve para la asignacion del valor actual y la asignacion del valor siguiente\n",
        "    def __init__(self, valor):\n",
        "        self.valor = valor\n",
        "        self.siguiente = None\n",
        "\n",
        "class PilaEnlazada:\n",
        "    def __init__(self):\n",
        "        self.cima = None#Establece un valor en la cima\n",
        "\n",
        "    def push(self, valor):#Empieza a realizar la operacion de insercion de datos como si de una pila fuera\n",
        "    # Cuando entra un nuevo valor, la cima pasa a ser el siguiente valor y el nuevo valor pasa a ser la cima\n",
        "        nuevo_nodo = Nodo(valor)\n",
        "        nuevo_nodo.siguiente = self.cima\n",
        "        self.cima = nuevo_nodo\n",
        "\n",
        "    def pop(self): #Desencolamiento, comprueba si primero hay algo que desencolar\n",
        "        if self.is_empty():\n",
        "            return None\n",
        "        valor = self.cima.valor# Toma el valor que se encuentra a la cabeza y lo saca de la pila,\n",
        "        #y convierte el valor abajo del sacado en la nueva cima\n",
        "        self.cima = self.cima.siguiente\n",
        "        return valor#retorna el valor sacado de la fila\n",
        "\n",
        "    def is_empty(self):\n",
        "        return self.cima is None\n",
        "\n",
        "    def visualizar_pila(self):\n",
        "      dot = Digraph()\n",
        "\n",
        "      actual = self.cima\n",
        "      indice = 0\n",
        "\n",
        "      while actual is not None:\n",
        "        dot.node(f'n{indice}', str(actual.valor))\n",
        "        if actual.siguiente is not None:\n",
        "            dot.edge(f'n{indice}', f'n{indice+1}')\n",
        "        actual = actual.siguiente\n",
        "        indice += 1\n",
        "        display(dot)\n",
        "\n",
        "Pila=PilaEnlazada()\n",
        "Pila.push(1)\n",
        "Pila.push(2)\n",
        "Pila.push(3)\n",
        "Pila.push(4)\n",
        "Pila.push(5)\n",
        "Pila.push(6)\n",
        "Pila.visualizar_pila()\n"
      ],
      "metadata": {
        "colab": {
          "base_uri": "https://localhost:8080/",
          "height": 1000
        },
        "id": "SVACREo9EBnP",
        "outputId": "bed7d870-e4f0-47be-9f03-ba38bee68a93"
      },
      "execution_count": null,
      "outputs": [
        {
          "output_type": "display_data",
          "data": {
            "image/svg+xml": "<?xml version=\"1.0\" encoding=\"UTF-8\" standalone=\"no\"?>\n<!DOCTYPE svg PUBLIC \"-//W3C//DTD SVG 1.1//EN\"\n \"http://www.w3.org/Graphics/SVG/1.1/DTD/svg11.dtd\">\n<!-- Generated by graphviz version 2.43.0 (0)\n -->\n<!-- Title: %3 Pages: 1 -->\n<svg width=\"62pt\" height=\"116pt\"\n viewBox=\"0.00 0.00 62.00 116.00\" xmlns=\"http://www.w3.org/2000/svg\" xmlns:xlink=\"http://www.w3.org/1999/xlink\">\n<g id=\"graph0\" class=\"graph\" transform=\"scale(1 1) rotate(0) translate(4 112)\">\n<title>%3</title>\n<polygon fill=\"white\" stroke=\"transparent\" points=\"-4,4 -4,-112 58,-112 58,4 -4,4\"/>\n<!-- n0 -->\n<g id=\"node1\" class=\"node\">\n<title>n0</title>\n<ellipse fill=\"none\" stroke=\"black\" cx=\"27\" cy=\"-90\" rx=\"27\" ry=\"18\"/>\n<text text-anchor=\"middle\" x=\"27\" y=\"-86.3\" font-family=\"Times,serif\" font-size=\"14.00\">6</text>\n</g>\n<!-- n1 -->\n<g id=\"node2\" class=\"node\">\n<title>n1</title>\n<ellipse fill=\"none\" stroke=\"black\" cx=\"27\" cy=\"-18\" rx=\"27\" ry=\"18\"/>\n<text text-anchor=\"middle\" x=\"27\" y=\"-14.3\" font-family=\"Times,serif\" font-size=\"14.00\">n1</text>\n</g>\n<!-- n0&#45;&gt;n1 -->\n<g id=\"edge1\" class=\"edge\">\n<title>n0&#45;&gt;n1</title>\n<path fill=\"none\" stroke=\"black\" d=\"M27,-71.7C27,-63.98 27,-54.71 27,-46.11\"/>\n<polygon fill=\"black\" stroke=\"black\" points=\"30.5,-46.1 27,-36.1 23.5,-46.1 30.5,-46.1\"/>\n</g>\n</g>\n</svg>\n",
            "text/plain": [
              "<graphviz.graphs.Digraph at 0x7e704b64c710>"
            ]
          },
          "metadata": {}
        },
        {
          "output_type": "display_data",
          "data": {
            "image/svg+xml": "<?xml version=\"1.0\" encoding=\"UTF-8\" standalone=\"no\"?>\n<!DOCTYPE svg PUBLIC \"-//W3C//DTD SVG 1.1//EN\"\n \"http://www.w3.org/Graphics/SVG/1.1/DTD/svg11.dtd\">\n<!-- Generated by graphviz version 2.43.0 (0)\n -->\n<!-- Title: %3 Pages: 1 -->\n<svg width=\"62pt\" height=\"188pt\"\n viewBox=\"0.00 0.00 62.00 188.00\" xmlns=\"http://www.w3.org/2000/svg\" xmlns:xlink=\"http://www.w3.org/1999/xlink\">\n<g id=\"graph0\" class=\"graph\" transform=\"scale(1 1) rotate(0) translate(4 184)\">\n<title>%3</title>\n<polygon fill=\"white\" stroke=\"transparent\" points=\"-4,4 -4,-184 58,-184 58,4 -4,4\"/>\n<!-- n0 -->\n<g id=\"node1\" class=\"node\">\n<title>n0</title>\n<ellipse fill=\"none\" stroke=\"black\" cx=\"27\" cy=\"-162\" rx=\"27\" ry=\"18\"/>\n<text text-anchor=\"middle\" x=\"27\" y=\"-158.3\" font-family=\"Times,serif\" font-size=\"14.00\">6</text>\n</g>\n<!-- n1 -->\n<g id=\"node2\" class=\"node\">\n<title>n1</title>\n<ellipse fill=\"none\" stroke=\"black\" cx=\"27\" cy=\"-90\" rx=\"27\" ry=\"18\"/>\n<text text-anchor=\"middle\" x=\"27\" y=\"-86.3\" font-family=\"Times,serif\" font-size=\"14.00\">5</text>\n</g>\n<!-- n0&#45;&gt;n1 -->\n<g id=\"edge1\" class=\"edge\">\n<title>n0&#45;&gt;n1</title>\n<path fill=\"none\" stroke=\"black\" d=\"M27,-143.7C27,-135.98 27,-126.71 27,-118.11\"/>\n<polygon fill=\"black\" stroke=\"black\" points=\"30.5,-118.1 27,-108.1 23.5,-118.1 30.5,-118.1\"/>\n</g>\n<!-- n2 -->\n<g id=\"node3\" class=\"node\">\n<title>n2</title>\n<ellipse fill=\"none\" stroke=\"black\" cx=\"27\" cy=\"-18\" rx=\"27\" ry=\"18\"/>\n<text text-anchor=\"middle\" x=\"27\" y=\"-14.3\" font-family=\"Times,serif\" font-size=\"14.00\">n2</text>\n</g>\n<!-- n1&#45;&gt;n2 -->\n<g id=\"edge2\" class=\"edge\">\n<title>n1&#45;&gt;n2</title>\n<path fill=\"none\" stroke=\"black\" d=\"M27,-71.7C27,-63.98 27,-54.71 27,-46.11\"/>\n<polygon fill=\"black\" stroke=\"black\" points=\"30.5,-46.1 27,-36.1 23.5,-46.1 30.5,-46.1\"/>\n</g>\n</g>\n</svg>\n",
            "text/plain": [
              "<graphviz.graphs.Digraph at 0x7e704b64c710>"
            ]
          },
          "metadata": {}
        },
        {
          "output_type": "display_data",
          "data": {
            "image/svg+xml": "<?xml version=\"1.0\" encoding=\"UTF-8\" standalone=\"no\"?>\n<!DOCTYPE svg PUBLIC \"-//W3C//DTD SVG 1.1//EN\"\n \"http://www.w3.org/Graphics/SVG/1.1/DTD/svg11.dtd\">\n<!-- Generated by graphviz version 2.43.0 (0)\n -->\n<!-- Title: %3 Pages: 1 -->\n<svg width=\"62pt\" height=\"260pt\"\n viewBox=\"0.00 0.00 62.00 260.00\" xmlns=\"http://www.w3.org/2000/svg\" xmlns:xlink=\"http://www.w3.org/1999/xlink\">\n<g id=\"graph0\" class=\"graph\" transform=\"scale(1 1) rotate(0) translate(4 256)\">\n<title>%3</title>\n<polygon fill=\"white\" stroke=\"transparent\" points=\"-4,4 -4,-256 58,-256 58,4 -4,4\"/>\n<!-- n0 -->\n<g id=\"node1\" class=\"node\">\n<title>n0</title>\n<ellipse fill=\"none\" stroke=\"black\" cx=\"27\" cy=\"-234\" rx=\"27\" ry=\"18\"/>\n<text text-anchor=\"middle\" x=\"27\" y=\"-230.3\" font-family=\"Times,serif\" font-size=\"14.00\">6</text>\n</g>\n<!-- n1 -->\n<g id=\"node2\" class=\"node\">\n<title>n1</title>\n<ellipse fill=\"none\" stroke=\"black\" cx=\"27\" cy=\"-162\" rx=\"27\" ry=\"18\"/>\n<text text-anchor=\"middle\" x=\"27\" y=\"-158.3\" font-family=\"Times,serif\" font-size=\"14.00\">5</text>\n</g>\n<!-- n0&#45;&gt;n1 -->\n<g id=\"edge1\" class=\"edge\">\n<title>n0&#45;&gt;n1</title>\n<path fill=\"none\" stroke=\"black\" d=\"M27,-215.7C27,-207.98 27,-198.71 27,-190.11\"/>\n<polygon fill=\"black\" stroke=\"black\" points=\"30.5,-190.1 27,-180.1 23.5,-190.1 30.5,-190.1\"/>\n</g>\n<!-- n2 -->\n<g id=\"node3\" class=\"node\">\n<title>n2</title>\n<ellipse fill=\"none\" stroke=\"black\" cx=\"27\" cy=\"-90\" rx=\"27\" ry=\"18\"/>\n<text text-anchor=\"middle\" x=\"27\" y=\"-86.3\" font-family=\"Times,serif\" font-size=\"14.00\">4</text>\n</g>\n<!-- n1&#45;&gt;n2 -->\n<g id=\"edge2\" class=\"edge\">\n<title>n1&#45;&gt;n2</title>\n<path fill=\"none\" stroke=\"black\" d=\"M27,-143.7C27,-135.98 27,-126.71 27,-118.11\"/>\n<polygon fill=\"black\" stroke=\"black\" points=\"30.5,-118.1 27,-108.1 23.5,-118.1 30.5,-118.1\"/>\n</g>\n<!-- n3 -->\n<g id=\"node4\" class=\"node\">\n<title>n3</title>\n<ellipse fill=\"none\" stroke=\"black\" cx=\"27\" cy=\"-18\" rx=\"27\" ry=\"18\"/>\n<text text-anchor=\"middle\" x=\"27\" y=\"-14.3\" font-family=\"Times,serif\" font-size=\"14.00\">n3</text>\n</g>\n<!-- n2&#45;&gt;n3 -->\n<g id=\"edge3\" class=\"edge\">\n<title>n2&#45;&gt;n3</title>\n<path fill=\"none\" stroke=\"black\" d=\"M27,-71.7C27,-63.98 27,-54.71 27,-46.11\"/>\n<polygon fill=\"black\" stroke=\"black\" points=\"30.5,-46.1 27,-36.1 23.5,-46.1 30.5,-46.1\"/>\n</g>\n</g>\n</svg>\n",
            "text/plain": [
              "<graphviz.graphs.Digraph at 0x7e704b64c710>"
            ]
          },
          "metadata": {}
        },
        {
          "output_type": "display_data",
          "data": {
            "image/svg+xml": "<?xml version=\"1.0\" encoding=\"UTF-8\" standalone=\"no\"?>\n<!DOCTYPE svg PUBLIC \"-//W3C//DTD SVG 1.1//EN\"\n \"http://www.w3.org/Graphics/SVG/1.1/DTD/svg11.dtd\">\n<!-- Generated by graphviz version 2.43.0 (0)\n -->\n<!-- Title: %3 Pages: 1 -->\n<svg width=\"62pt\" height=\"332pt\"\n viewBox=\"0.00 0.00 62.00 332.00\" xmlns=\"http://www.w3.org/2000/svg\" xmlns:xlink=\"http://www.w3.org/1999/xlink\">\n<g id=\"graph0\" class=\"graph\" transform=\"scale(1 1) rotate(0) translate(4 328)\">\n<title>%3</title>\n<polygon fill=\"white\" stroke=\"transparent\" points=\"-4,4 -4,-328 58,-328 58,4 -4,4\"/>\n<!-- n0 -->\n<g id=\"node1\" class=\"node\">\n<title>n0</title>\n<ellipse fill=\"none\" stroke=\"black\" cx=\"27\" cy=\"-306\" rx=\"27\" ry=\"18\"/>\n<text text-anchor=\"middle\" x=\"27\" y=\"-302.3\" font-family=\"Times,serif\" font-size=\"14.00\">6</text>\n</g>\n<!-- n1 -->\n<g id=\"node2\" class=\"node\">\n<title>n1</title>\n<ellipse fill=\"none\" stroke=\"black\" cx=\"27\" cy=\"-234\" rx=\"27\" ry=\"18\"/>\n<text text-anchor=\"middle\" x=\"27\" y=\"-230.3\" font-family=\"Times,serif\" font-size=\"14.00\">5</text>\n</g>\n<!-- n0&#45;&gt;n1 -->\n<g id=\"edge1\" class=\"edge\">\n<title>n0&#45;&gt;n1</title>\n<path fill=\"none\" stroke=\"black\" d=\"M27,-287.7C27,-279.98 27,-270.71 27,-262.11\"/>\n<polygon fill=\"black\" stroke=\"black\" points=\"30.5,-262.1 27,-252.1 23.5,-262.1 30.5,-262.1\"/>\n</g>\n<!-- n2 -->\n<g id=\"node3\" class=\"node\">\n<title>n2</title>\n<ellipse fill=\"none\" stroke=\"black\" cx=\"27\" cy=\"-162\" rx=\"27\" ry=\"18\"/>\n<text text-anchor=\"middle\" x=\"27\" y=\"-158.3\" font-family=\"Times,serif\" font-size=\"14.00\">4</text>\n</g>\n<!-- n1&#45;&gt;n2 -->\n<g id=\"edge2\" class=\"edge\">\n<title>n1&#45;&gt;n2</title>\n<path fill=\"none\" stroke=\"black\" d=\"M27,-215.7C27,-207.98 27,-198.71 27,-190.11\"/>\n<polygon fill=\"black\" stroke=\"black\" points=\"30.5,-190.1 27,-180.1 23.5,-190.1 30.5,-190.1\"/>\n</g>\n<!-- n3 -->\n<g id=\"node4\" class=\"node\">\n<title>n3</title>\n<ellipse fill=\"none\" stroke=\"black\" cx=\"27\" cy=\"-90\" rx=\"27\" ry=\"18\"/>\n<text text-anchor=\"middle\" x=\"27\" y=\"-86.3\" font-family=\"Times,serif\" font-size=\"14.00\">3</text>\n</g>\n<!-- n2&#45;&gt;n3 -->\n<g id=\"edge3\" class=\"edge\">\n<title>n2&#45;&gt;n3</title>\n<path fill=\"none\" stroke=\"black\" d=\"M27,-143.7C27,-135.98 27,-126.71 27,-118.11\"/>\n<polygon fill=\"black\" stroke=\"black\" points=\"30.5,-118.1 27,-108.1 23.5,-118.1 30.5,-118.1\"/>\n</g>\n<!-- n4 -->\n<g id=\"node5\" class=\"node\">\n<title>n4</title>\n<ellipse fill=\"none\" stroke=\"black\" cx=\"27\" cy=\"-18\" rx=\"27\" ry=\"18\"/>\n<text text-anchor=\"middle\" x=\"27\" y=\"-14.3\" font-family=\"Times,serif\" font-size=\"14.00\">n4</text>\n</g>\n<!-- n3&#45;&gt;n4 -->\n<g id=\"edge4\" class=\"edge\">\n<title>n3&#45;&gt;n4</title>\n<path fill=\"none\" stroke=\"black\" d=\"M27,-71.7C27,-63.98 27,-54.71 27,-46.11\"/>\n<polygon fill=\"black\" stroke=\"black\" points=\"30.5,-46.1 27,-36.1 23.5,-46.1 30.5,-46.1\"/>\n</g>\n</g>\n</svg>\n",
            "text/plain": [
              "<graphviz.graphs.Digraph at 0x7e704b64c710>"
            ]
          },
          "metadata": {}
        },
        {
          "output_type": "display_data",
          "data": {
            "image/svg+xml": "<?xml version=\"1.0\" encoding=\"UTF-8\" standalone=\"no\"?>\n<!DOCTYPE svg PUBLIC \"-//W3C//DTD SVG 1.1//EN\"\n \"http://www.w3.org/Graphics/SVG/1.1/DTD/svg11.dtd\">\n<!-- Generated by graphviz version 2.43.0 (0)\n -->\n<!-- Title: %3 Pages: 1 -->\n<svg width=\"62pt\" height=\"404pt\"\n viewBox=\"0.00 0.00 62.00 404.00\" xmlns=\"http://www.w3.org/2000/svg\" xmlns:xlink=\"http://www.w3.org/1999/xlink\">\n<g id=\"graph0\" class=\"graph\" transform=\"scale(1 1) rotate(0) translate(4 400)\">\n<title>%3</title>\n<polygon fill=\"white\" stroke=\"transparent\" points=\"-4,4 -4,-400 58,-400 58,4 -4,4\"/>\n<!-- n0 -->\n<g id=\"node1\" class=\"node\">\n<title>n0</title>\n<ellipse fill=\"none\" stroke=\"black\" cx=\"27\" cy=\"-378\" rx=\"27\" ry=\"18\"/>\n<text text-anchor=\"middle\" x=\"27\" y=\"-374.3\" font-family=\"Times,serif\" font-size=\"14.00\">6</text>\n</g>\n<!-- n1 -->\n<g id=\"node2\" class=\"node\">\n<title>n1</title>\n<ellipse fill=\"none\" stroke=\"black\" cx=\"27\" cy=\"-306\" rx=\"27\" ry=\"18\"/>\n<text text-anchor=\"middle\" x=\"27\" y=\"-302.3\" font-family=\"Times,serif\" font-size=\"14.00\">5</text>\n</g>\n<!-- n0&#45;&gt;n1 -->\n<g id=\"edge1\" class=\"edge\">\n<title>n0&#45;&gt;n1</title>\n<path fill=\"none\" stroke=\"black\" d=\"M27,-359.7C27,-351.98 27,-342.71 27,-334.11\"/>\n<polygon fill=\"black\" stroke=\"black\" points=\"30.5,-334.1 27,-324.1 23.5,-334.1 30.5,-334.1\"/>\n</g>\n<!-- n2 -->\n<g id=\"node3\" class=\"node\">\n<title>n2</title>\n<ellipse fill=\"none\" stroke=\"black\" cx=\"27\" cy=\"-234\" rx=\"27\" ry=\"18\"/>\n<text text-anchor=\"middle\" x=\"27\" y=\"-230.3\" font-family=\"Times,serif\" font-size=\"14.00\">4</text>\n</g>\n<!-- n1&#45;&gt;n2 -->\n<g id=\"edge2\" class=\"edge\">\n<title>n1&#45;&gt;n2</title>\n<path fill=\"none\" stroke=\"black\" d=\"M27,-287.7C27,-279.98 27,-270.71 27,-262.11\"/>\n<polygon fill=\"black\" stroke=\"black\" points=\"30.5,-262.1 27,-252.1 23.5,-262.1 30.5,-262.1\"/>\n</g>\n<!-- n3 -->\n<g id=\"node4\" class=\"node\">\n<title>n3</title>\n<ellipse fill=\"none\" stroke=\"black\" cx=\"27\" cy=\"-162\" rx=\"27\" ry=\"18\"/>\n<text text-anchor=\"middle\" x=\"27\" y=\"-158.3\" font-family=\"Times,serif\" font-size=\"14.00\">3</text>\n</g>\n<!-- n2&#45;&gt;n3 -->\n<g id=\"edge3\" class=\"edge\">\n<title>n2&#45;&gt;n3</title>\n<path fill=\"none\" stroke=\"black\" d=\"M27,-215.7C27,-207.98 27,-198.71 27,-190.11\"/>\n<polygon fill=\"black\" stroke=\"black\" points=\"30.5,-190.1 27,-180.1 23.5,-190.1 30.5,-190.1\"/>\n</g>\n<!-- n4 -->\n<g id=\"node5\" class=\"node\">\n<title>n4</title>\n<ellipse fill=\"none\" stroke=\"black\" cx=\"27\" cy=\"-90\" rx=\"27\" ry=\"18\"/>\n<text text-anchor=\"middle\" x=\"27\" y=\"-86.3\" font-family=\"Times,serif\" font-size=\"14.00\">2</text>\n</g>\n<!-- n3&#45;&gt;n4 -->\n<g id=\"edge4\" class=\"edge\">\n<title>n3&#45;&gt;n4</title>\n<path fill=\"none\" stroke=\"black\" d=\"M27,-143.7C27,-135.98 27,-126.71 27,-118.11\"/>\n<polygon fill=\"black\" stroke=\"black\" points=\"30.5,-118.1 27,-108.1 23.5,-118.1 30.5,-118.1\"/>\n</g>\n<!-- n5 -->\n<g id=\"node6\" class=\"node\">\n<title>n5</title>\n<ellipse fill=\"none\" stroke=\"black\" cx=\"27\" cy=\"-18\" rx=\"27\" ry=\"18\"/>\n<text text-anchor=\"middle\" x=\"27\" y=\"-14.3\" font-family=\"Times,serif\" font-size=\"14.00\">n5</text>\n</g>\n<!-- n4&#45;&gt;n5 -->\n<g id=\"edge5\" class=\"edge\">\n<title>n4&#45;&gt;n5</title>\n<path fill=\"none\" stroke=\"black\" d=\"M27,-71.7C27,-63.98 27,-54.71 27,-46.11\"/>\n<polygon fill=\"black\" stroke=\"black\" points=\"30.5,-46.1 27,-36.1 23.5,-46.1 30.5,-46.1\"/>\n</g>\n</g>\n</svg>\n",
            "text/plain": [
              "<graphviz.graphs.Digraph at 0x7e704b64c710>"
            ]
          },
          "metadata": {}
        },
        {
          "output_type": "display_data",
          "data": {
            "image/svg+xml": "<?xml version=\"1.0\" encoding=\"UTF-8\" standalone=\"no\"?>\n<!DOCTYPE svg PUBLIC \"-//W3C//DTD SVG 1.1//EN\"\n \"http://www.w3.org/Graphics/SVG/1.1/DTD/svg11.dtd\">\n<!-- Generated by graphviz version 2.43.0 (0)\n -->\n<!-- Title: %3 Pages: 1 -->\n<svg width=\"62pt\" height=\"404pt\"\n viewBox=\"0.00 0.00 62.00 404.00\" xmlns=\"http://www.w3.org/2000/svg\" xmlns:xlink=\"http://www.w3.org/1999/xlink\">\n<g id=\"graph0\" class=\"graph\" transform=\"scale(1 1) rotate(0) translate(4 400)\">\n<title>%3</title>\n<polygon fill=\"white\" stroke=\"transparent\" points=\"-4,4 -4,-400 58,-400 58,4 -4,4\"/>\n<!-- n0 -->\n<g id=\"node1\" class=\"node\">\n<title>n0</title>\n<ellipse fill=\"none\" stroke=\"black\" cx=\"27\" cy=\"-378\" rx=\"27\" ry=\"18\"/>\n<text text-anchor=\"middle\" x=\"27\" y=\"-374.3\" font-family=\"Times,serif\" font-size=\"14.00\">6</text>\n</g>\n<!-- n1 -->\n<g id=\"node2\" class=\"node\">\n<title>n1</title>\n<ellipse fill=\"none\" stroke=\"black\" cx=\"27\" cy=\"-306\" rx=\"27\" ry=\"18\"/>\n<text text-anchor=\"middle\" x=\"27\" y=\"-302.3\" font-family=\"Times,serif\" font-size=\"14.00\">5</text>\n</g>\n<!-- n0&#45;&gt;n1 -->\n<g id=\"edge1\" class=\"edge\">\n<title>n0&#45;&gt;n1</title>\n<path fill=\"none\" stroke=\"black\" d=\"M27,-359.7C27,-351.98 27,-342.71 27,-334.11\"/>\n<polygon fill=\"black\" stroke=\"black\" points=\"30.5,-334.1 27,-324.1 23.5,-334.1 30.5,-334.1\"/>\n</g>\n<!-- n2 -->\n<g id=\"node3\" class=\"node\">\n<title>n2</title>\n<ellipse fill=\"none\" stroke=\"black\" cx=\"27\" cy=\"-234\" rx=\"27\" ry=\"18\"/>\n<text text-anchor=\"middle\" x=\"27\" y=\"-230.3\" font-family=\"Times,serif\" font-size=\"14.00\">4</text>\n</g>\n<!-- n1&#45;&gt;n2 -->\n<g id=\"edge2\" class=\"edge\">\n<title>n1&#45;&gt;n2</title>\n<path fill=\"none\" stroke=\"black\" d=\"M27,-287.7C27,-279.98 27,-270.71 27,-262.11\"/>\n<polygon fill=\"black\" stroke=\"black\" points=\"30.5,-262.1 27,-252.1 23.5,-262.1 30.5,-262.1\"/>\n</g>\n<!-- n3 -->\n<g id=\"node4\" class=\"node\">\n<title>n3</title>\n<ellipse fill=\"none\" stroke=\"black\" cx=\"27\" cy=\"-162\" rx=\"27\" ry=\"18\"/>\n<text text-anchor=\"middle\" x=\"27\" y=\"-158.3\" font-family=\"Times,serif\" font-size=\"14.00\">3</text>\n</g>\n<!-- n2&#45;&gt;n3 -->\n<g id=\"edge3\" class=\"edge\">\n<title>n2&#45;&gt;n3</title>\n<path fill=\"none\" stroke=\"black\" d=\"M27,-215.7C27,-207.98 27,-198.71 27,-190.11\"/>\n<polygon fill=\"black\" stroke=\"black\" points=\"30.5,-190.1 27,-180.1 23.5,-190.1 30.5,-190.1\"/>\n</g>\n<!-- n4 -->\n<g id=\"node5\" class=\"node\">\n<title>n4</title>\n<ellipse fill=\"none\" stroke=\"black\" cx=\"27\" cy=\"-90\" rx=\"27\" ry=\"18\"/>\n<text text-anchor=\"middle\" x=\"27\" y=\"-86.3\" font-family=\"Times,serif\" font-size=\"14.00\">2</text>\n</g>\n<!-- n3&#45;&gt;n4 -->\n<g id=\"edge4\" class=\"edge\">\n<title>n3&#45;&gt;n4</title>\n<path fill=\"none\" stroke=\"black\" d=\"M27,-143.7C27,-135.98 27,-126.71 27,-118.11\"/>\n<polygon fill=\"black\" stroke=\"black\" points=\"30.5,-118.1 27,-108.1 23.5,-118.1 30.5,-118.1\"/>\n</g>\n<!-- n5 -->\n<g id=\"node6\" class=\"node\">\n<title>n5</title>\n<ellipse fill=\"none\" stroke=\"black\" cx=\"27\" cy=\"-18\" rx=\"27\" ry=\"18\"/>\n<text text-anchor=\"middle\" x=\"27\" y=\"-14.3\" font-family=\"Times,serif\" font-size=\"14.00\">1</text>\n</g>\n<!-- n4&#45;&gt;n5 -->\n<g id=\"edge5\" class=\"edge\">\n<title>n4&#45;&gt;n5</title>\n<path fill=\"none\" stroke=\"black\" d=\"M27,-71.7C27,-63.98 27,-54.71 27,-46.11\"/>\n<polygon fill=\"black\" stroke=\"black\" points=\"30.5,-46.1 27,-36.1 23.5,-46.1 30.5,-46.1\"/>\n</g>\n</g>\n</svg>\n",
            "text/plain": [
              "<graphviz.graphs.Digraph at 0x7e704b64c710>"
            ]
          },
          "metadata": {}
        }
      ]
    },
    {
      "cell_type": "code",
      "source": [],
      "metadata": {
        "id": "ohX3cBwjKOWN"
      },
      "execution_count": null,
      "outputs": []
    }
  ]
}