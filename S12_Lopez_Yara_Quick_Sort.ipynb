{
  "nbformat": 4,
  "nbformat_minor": 0,
  "metadata": {
    "colab": {
      "provenance": [],
      "authorship_tag": "ABX9TyNv4gIDSXcCIPl3ibVP2N+4",
      "include_colab_link": true
    },
    "kernelspec": {
      "name": "python3",
      "display_name": "Python 3"
    },
    "language_info": {
      "name": "python"
    }
  },
  "cells": [
    {
      "cell_type": "markdown",
      "metadata": {
        "id": "view-in-github",
        "colab_type": "text"
      },
      "source": [
        "<a href=\"https://colab.research.google.com/github/JuanPZ28/Estructura_de_datos_lineales/blob/main/S12_Lopez_Yara_Quick_Sort.ipynb\" target=\"_parent\"><img src=\"https://colab.research.google.com/assets/colab-badge.svg\" alt=\"Open In Colab\"/></a>"
      ]
    },
    {
      "cell_type": "code",
      "execution_count": null,
      "metadata": {
        "colab": {
          "base_uri": "https://localhost:8080/"
        },
        "id": "jcOnD6efwKZ3",
        "outputId": "a891a563-e0fa-48c7-ac91-0925ae74ff5a"
      },
      "outputs": [
        {
          "output_type": "stream",
          "name": "stdout",
          "text": [
            "Pivote elegido 6\n",
            "Pivote elegido 4\n",
            "Pivote elegido 2\n",
            "Pivote elegido 9\n",
            "Lista Ordenada: [1, 2, 3, 4, 5, 6, 8, 9] 120 bytes\n",
            "Pivote elegido 54\n",
            "Pivote elegido 6\n",
            "Pivote elegido 3\n",
            "Pivote elegido 1\n",
            "Pivote elegido 23\n",
            "Pivote elegido 12\n",
            "Pivote elegido 84\n",
            "Pivote elegido 109\n",
            "Lista Ordenada: [1, 2, 3, 5, 6, 8, 12, 19, 23, 54, 67, 84, 98, 109] 184 bytes\n",
            "Pivote elegido 5\n",
            "Pivote elegido 2\n",
            "Pivote elegido 3\n",
            "Lista Ordenada: [1, 2, 3, 4, 5, 6] 104 bytes\n",
            "Pivote elegido 2\n",
            "Pivote elegido 4\n",
            "Pivote elegido 5\n",
            "Lista Ordenada: [1, 2, 3, 4, 5, 6] 104 bytes\n"
          ]
        }
      ],
      "source": [
        "import sys\n",
        "import random\n",
        "\n",
        "def quicksort(arr):\n",
        "\n",
        "  if len(arr) <= 1:\n",
        "    return arr\n",
        "\n",
        "  else:\n",
        "    pivote = random.choice(arr)\n",
        "    print('Pivote elegido',pivote)\n",
        "    menores = [x for x in arr if x < pivote]\n",
        "    iguales = [x for x in arr if x == pivote]\n",
        "    mayores = [x for x in arr if x > pivote]\n",
        "\n",
        "    return quicksort(menores) + [pivote] + quicksort(mayores)\n",
        "\n",
        "lista = [2,8,1,6,3,4,5,9]\n",
        "print('Lista Ordenada:',quicksort(lista),sys.getsizeof(lista), \"bytes\")\n",
        "lista = [3,6,8,19,1,2,23,54,67,84,12,98,109,84,5,6]\n",
        "print('Lista Ordenada:',quicksort(lista),sys.getsizeof(lista), \"bytes\")\n",
        "lista = [1,2,3,4,5,6]\n",
        "print('Lista Ordenada:',quicksort(lista),sys.getsizeof(lista), \"bytes\")\n",
        "lista = [6,5,4,3,2,1]\n",
        "print('Lista Ordenada:',quicksort(lista),sys.getsizeof(lista), \"bytes\")"
      ]
    }
  ]
}